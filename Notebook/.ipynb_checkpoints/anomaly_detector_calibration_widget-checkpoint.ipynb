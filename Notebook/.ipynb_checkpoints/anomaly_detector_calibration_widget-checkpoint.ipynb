{
 "cells": [
  {
   "cell_type": "markdown",
   "id": "1f897fb0-30b7-44ec-acb9-42df72de2714",
   "metadata": {},
   "source": [
    "### Prototypical Projection Based Anomaly Detector\n",
    "###   Code by F. Vides, E. Segura, C. Vargas\n",
    "###   For Paper, \"On Operator Theory-Based Anomaly Detection in Cyber-Physical Systems\"\n",
    "###   by F. Vides, E. Segura, C. Vargas\n",
    "### @authors: F. Vides, E. Segura, C. Vargas"
   ]
  },
  {
   "cell_type": "code",
   "execution_count": 1,
   "id": "628473fe-2ab7-4301-b44f-0be92fe20552",
   "metadata": {},
   "outputs": [],
   "source": [
    "from matplotlib.pyplot import plot,subplot,show,grid,tight_layout, figure, axvspan\n",
    "from numpy.linalg import svd, eigh\n",
    "from numpy import zeros, real, where, nan, append, ones, maximum\n",
    "from numpy.random import randn\n",
    "from scipy.linalg import hankel\n",
    "from pandas import read_excel,read_csv\n",
    "from statistics import mean, stdev\n",
    "import numpy as np\n",
    "import time"
   ]
  },
  {
   "cell_type": "code",
   "execution_count": 2,
   "id": "5a736040-bb91-4cc0-91d1-c4669f2751b3",
   "metadata": {},
   "outputs": [],
   "source": [
    "from ipywidgets import interact, interactive, fixed, interact_manual\n",
    "import ipywidgets as widgets"
   ]
  },
  {
   "cell_type": "code",
   "execution_count": 3,
   "id": "67dd05fb-6beb-4afa-80df-62d7c623412e",
   "metadata": {},
   "outputs": [],
   "source": [
    "def InversePowerMethod(A,tol, kIterMax,q0):\n",
    "    \n",
    "    import numpy as np\n",
    "    \n",
    "    n = A.shape[0]\n",
    "\n",
    "    x = np.random.rand(n).reshape(-1,1)\n",
    "\n",
    "    B = A.copy()\n",
    "\n",
    "    error = 1\n",
    "    \n",
    "    #First Run\n",
    "    for od in range(n):\n",
    "            B[od,od] = A[od,od] - q0\n",
    "        \n",
    "    x = np.linalg.solve(B,x)\n",
    "    x = x/np.linalg.norm(x)\n",
    "    lamOld = x.T@A@x\n",
    "    \n",
    "    kIter = 1\n",
    "    \n",
    "    while kIter < kIterMax:\n",
    "        \n",
    "        #od = on diagonal\n",
    "        for od in range(n):\n",
    "            B[od,od] = A[od,od] - lamOld\n",
    "        \n",
    "        x = np.linalg.solve(B,x)\n",
    "        x = x/np.linalg.norm(x)\n",
    "        lamNew = x.T@A@x\n",
    "        kIter = kIter + 1\n",
    "        \n",
    "        error = np.abs(lamNew - lamOld)\n",
    "        if error < tol:\n",
    "            return (x, lamNew, kIter)\n",
    "        else:\n",
    "            lamOld = lamNew\n",
    "        \n",
    "        \n",
    "        \n",
    "    return (x, lamNew, kIter)"
   ]
  },
  {
   "cell_type": "code",
   "execution_count": 4,
   "id": "b651eea1-dffd-49d5-a2a8-aa65302672f8",
   "metadata": {},
   "outputs": [],
   "source": [
    "def intermediateSVD(signal, L,N_hankel, figsize):\n",
    "        \n",
    "    x1 = signal.copy()\n",
    "    xm = mean(x1)\n",
    "    x0 = x1 - xm\n",
    "    H = hankel(x0[:L],x0[(L-1):N_hankel])\n",
    "\n",
    "\n",
    "    startTime = time.time()\n",
    "    \n",
    "    H1 = H@H.T\n",
    "    u,s,v = svd(H,full_matrices=0)\n",
    "    p = u[:,-1]\n",
    "    \n",
    "    finishTime = time.time()\n",
    "    print(\"Time taken for SVD: {:.4f} seconds\".format(finishTime-startTime))\n",
    "\n",
    "    lp = len(p)\n",
    "    lx = len(x0)\n",
    "    N = lx-lp\n",
    "\n",
    "    \n",
    "    d0 = zeros(lx)\n",
    "    d1 = zeros(lx)\n",
    "\n",
    "    for k in range(N):\n",
    "        d0[k+lp-1] = abs(p.T@x0[(k):(k+lp)])\n",
    "        d1[N-k-1]  = abs(p.T@x0[(lx-k-lp):(lx-k)])\n",
    "\n",
    "    std_d0 = stdev(d0)\n",
    "    std_d1 = stdev(d1)\n",
    "\n",
    "    return(d0,d1,std_d0,std_d1,x1,x0,xm,lp,lx,N,figsize)   "
   ]
  },
  {
   "cell_type": "code",
   "execution_count": 5,
   "id": "07fed851-5c51-44a5-b246-aca405cb7265",
   "metadata": {},
   "outputs": [],
   "source": [
    "def intermediateEigH(signal, L,N_hankel, figsize):\n",
    "        \n",
    "    x1 = signal.copy()\n",
    "    xm = mean(x1)\n",
    "    x0 = x1 - xm\n",
    "    H = hankel(x0[:L],x0[(L-1):N_hankel])\n",
    "\n",
    "\n",
    "    startTime = time.time()\n",
    "    \n",
    "    H1 = H@H.T\n",
    "    eigvec = eigh(H1)[1]\n",
    "    p = eigvec[:,0]\n",
    "    \n",
    "    finishTime = time.time()\n",
    "    print(\"Time taken for EigH: {:.4f} seconds\".format(finishTime-startTime))\n",
    "\n",
    "    lp = len(p)\n",
    "    lx = len(x0)\n",
    "    N = lx-lp\n",
    "\n",
    "    \n",
    "    d0 = zeros(lx)\n",
    "    d1 = zeros(lx)\n",
    "\n",
    "    for k in range(N):\n",
    "        d0[k+lp-1] = abs(p.T@x0[(k):(k+lp)])\n",
    "        d1[N-k-1]  = abs(p.T@x0[(lx-k-lp):(lx-k)])\n",
    "\n",
    "    std_d0 = stdev(d0)\n",
    "    std_d1 = stdev(d1)\n",
    "\n",
    "    return(d0,d1,std_d0,std_d1,x1,x0,xm,lp,lx,N,figsize) "
   ]
  },
  {
   "cell_type": "code",
   "execution_count": 6,
   "id": "d1d084cf-fd56-407e-9301-a51d25f5f497",
   "metadata": {},
   "outputs": [],
   "source": [
    "def intermediateIPM(signal, L,N_hankel, tolIPM, kIterMax, q0, figsize):\n",
    "        \n",
    "    x1 = signal.copy()\n",
    "    xm = mean(x1)\n",
    "    x0 = x1 - xm\n",
    "    H = hankel(x0[:L],x0[(L-1):N_hankel])\n",
    "\n",
    "\n",
    "    startTime = time.time()\n",
    "    \n",
    "    H1 = H@H.T\n",
    "    p, lam, kIter = InversePowerMethod(A=H1, tol=tolIPM,\n",
    "                                      kIterMax = kIterMax,\n",
    "                                      q0 = q0)\n",
    "\n",
    "    \n",
    "    finishTime = time.time()\n",
    "    print(\"Number of iteration of IPM. kIter = {:d}\".format(kIter))\n",
    "    print(\"Time taken for IPM: {:.4f} seconds\".format(finishTime-startTime))\n",
    "\n",
    "    lp = len(p)\n",
    "    lx = len(x0)\n",
    "    N = lx-lp\n",
    "\n",
    "    \n",
    "    d0 = zeros(lx)\n",
    "    d1 = zeros(lx)\n",
    "\n",
    "    for k in range(N):\n",
    "        d0[k+lp-1] = abs(p.T@x0[(k):(k+lp)])\n",
    "        d1[N-k-1] = abs(p.T@x0[(lx-k-lp):(lx-k)])\n",
    "\n",
    "    std_d0 = stdev(d0)\n",
    "    std_d1 = stdev(d1)\n",
    "\n",
    "    return(d0,d1,std_d0,std_d1,x1,x0,xm,lp,lx,N,figsize)\n",
    "\n",
    "    "
   ]
  },
  {
   "cell_type": "code",
   "execution_count": 7,
   "id": "d321b339-c354-4cb1-b523-c8f976dd9e5d",
   "metadata": {},
   "outputs": [],
   "source": [
    "def calibration(tolerance, and_or, rest):\n",
    "    \n",
    "    from numpy import logical_or\n",
    "    from numpy import logical_and\n",
    "    \n",
    "    d0,d1,std_d0,std_d1,x1,x0,xm,lp,lx,N,figsize = rest\n",
    "    \n",
    "    \n",
    "    threshold0 = tolerance*std_d0\n",
    "    threshold1 = tolerance*std_d1    \n",
    "    \n",
    "    d0 = (d0 >= threshold0)\n",
    "    d1 = (d1 >= threshold1)\n",
    "\n",
    "    \n",
    "    if and_or == \"AND\": \n",
    "        d = logical_and(d0,d1)\n",
    "    if and_or == \"OR\":\n",
    "        d = logical_or(d0,d1)\n",
    "\n",
    "    di = where(d==1)[0]\n",
    "    y = nan*ones(lx)\n",
    "    #y[di] = x0[di]\n",
    "    y[di] = x1[di]\n",
    "    \n",
    "    figure(figsize =figsize)\n",
    "    \n",
    "    ax1 = subplot(3,1,1)\n",
    "    ax1.set_xlim(0,len(x0)+1)\n",
    "    \n",
    "    plot(x1,'blue')\n",
    "    grid(color='k', linestyle='--', linewidth=0.5)\n",
    "    ax1.set_title('Signal', fontsize=12)\n",
    "    \n",
    "    ax2 = subplot(3,1,2)\n",
    "    \n",
    "    #Put this or it doesn't plot the whole region\n",
    "    ax2.set_xlim(0,len(x0)+1)\n",
    "    ax2.set_ylim(0,1)\n",
    "        \n",
    "    \n",
    "    for anom in di:\n",
    "        ax2.axvspan(anom-0.5, anom+0.5, facecolor = \"seagreen\", alpha = 1)\n",
    "    \n",
    "    plot(di,'darkorange',)\n",
    "    grid(color='k', linestyle='--', linewidth=0.5)\n",
    "    ax2.set_title('Identified scanning region', fontsize=12)\n",
    "    tight_layout()\n",
    "    \n",
    "    ax3 = subplot(3,1,3)\n",
    "    \n",
    "    ax3.set_xlim(0,len(x0)+1)\n",
    "    for anom in di:\n",
    "        ax3.axvspan(anom-0.5, anom+0.5, facecolor = \"seagreen\", alpha = 1)\n",
    "\n",
    "    plot(x1,'blue')\n",
    "    #plot(y,\"darkorange\")\n",
    "    #plot(d*x1,'darkorange')\n",
    "    plot(d*x0+xm,'darkorange')\n",
    "    grid(color='k', linestyle='--', linewidth=0.5)\n",
    "    ax3.set_title('Identified anomalies', fontsize=12)\n",
    "    tight_layout()\n",
    "    show()"
   ]
  },
  {
   "cell_type": "markdown",
   "id": "43de9b93-c59c-475e-87f8-417632bd6b5a",
   "metadata": {},
   "source": [
    "### Let's define the figure size here"
   ]
  },
  {
   "cell_type": "code",
   "execution_count": 8,
   "id": "d6d8d7bb-3816-457e-9524-043586f316b6",
   "metadata": {},
   "outputs": [],
   "source": [
    "figsize = (16,7)"
   ]
  },
  {
   "cell_type": "markdown",
   "id": "b45efded-2555-447d-a958-5558f3c48c31",
   "metadata": {},
   "source": [
    "# Let's calibrate the synthetic signal"
   ]
  },
  {
   "cell_type": "code",
   "execution_count": 9,
   "id": "3ca4c916-3a11-4dc6-bb15-f4aaa878d7bd",
   "metadata": {},
   "outputs": [],
   "source": [
    "signal = read_csv('../Data/synthetic_signal.csv', header = None)\n",
    "signal = signal.values.reshape(-1)"
   ]
  },
  {
   "cell_type": "markdown",
   "id": "d43b62ab-3e88-49f0-855c-f2c202cdb253",
   "metadata": {},
   "source": [
    "### Set some value for L and N_hankel here"
   ]
  },
  {
   "cell_type": "code",
   "execution_count": 10,
   "id": "c258f628-bb7e-4aab-b947-6d3c4df01c83",
   "metadata": {},
   "outputs": [],
   "source": [
    "L = 150\n",
    "N_hankel = 1200"
   ]
  },
  {
   "cell_type": "markdown",
   "id": "e0c8f4cf-facf-40f3-b976-294ae8637e63",
   "metadata": {},
   "source": [
    "## Using SVD"
   ]
  },
  {
   "cell_type": "markdown",
   "id": "0e4556d6-ccf9-499c-8668-656070c76b8b",
   "metadata": {},
   "source": [
    "### The intermediate step is for the widget not recalculating the SVD decomposition, and only changing the sensitivity.\n",
    "### It's easier on the computer to only adjust with the widget the sensitivity and change manually the L and S in the cell before for the calibration"
   ]
  },
  {
   "cell_type": "code",
   "execution_count": 13,
   "id": "6435f16a-1f81-4f95-b434-5f76818332cb",
   "metadata": {},
   "outputs": [
    {
     "name": "stdout",
     "output_type": "stream",
     "text": [
      "Time taken for SVD: 0.0357 seconds\n"
     ]
    },
    {
     "data": {
      "application/vnd.jupyter.widget-view+json": {
       "model_id": "d97cddb437384fe3b01398b69c36178e",
       "version_major": 2,
       "version_minor": 0
      },
      "text/plain": [
       "interactive(children=(FloatSlider(value=1.2, description='tolerance', max=2.4, step=0.01), Dropdown(descriptio…"
      ]
     },
     "metadata": {},
     "output_type": "display_data"
    }
   ],
   "source": [
    "rest = intermediateSVD(signal = signal, L = L, N_hankel = N_hankel,\n",
    "                       figsize = figsize)\n",
    "interact(calibration, tolerance=(0,2.4,0.01),\n",
    "         and_or = [\"AND\",\"OR\"],\n",
    "        rest = fixed(rest) );"
   ]
  },
  {
   "cell_type": "markdown",
   "id": "61ca3368-5b01-4a57-a9c2-648da0df4774",
   "metadata": {},
   "source": [
    "## Using Eigen Hermitian"
   ]
  },
  {
   "cell_type": "markdown",
   "id": "c47ec17f-6027-4f96-a21a-7e7c346c2025",
   "metadata": {},
   "source": [
    "### The intermediate step is for the widget not recalculating the Eigen Hermitian decomposition, and only changing the sensitivity.\n",
    "### It's easier on the computer to only adjust with the widget the sensitivity and change manually the L and S in the cell before for the calibration"
   ]
  },
  {
   "cell_type": "code",
   "execution_count": 16,
   "id": "ccbfe9be-3fe7-43f7-9c3d-e2154d2b0d69",
   "metadata": {},
   "outputs": [],
   "source": [
    "L = 150\n",
    "N_hankel = 1200"
   ]
  },
  {
   "cell_type": "code",
   "execution_count": 17,
   "id": "af308483-9a67-4c1d-ab2b-3f3c8020b683",
   "metadata": {},
   "outputs": [
    {
     "name": "stdout",
     "output_type": "stream",
     "text": [
      "Time taken for EigH: 0.0045 seconds\n"
     ]
    },
    {
     "data": {
      "application/vnd.jupyter.widget-view+json": {
       "model_id": "8f8835fcc2434566ac5bbd9b35263a50",
       "version_major": 2,
       "version_minor": 0
      },
      "text/plain": [
       "interactive(children=(FloatSlider(value=1.2, description='tolerance', max=2.4, step=0.01), Dropdown(descriptio…"
      ]
     },
     "metadata": {},
     "output_type": "display_data"
    }
   ],
   "source": [
    "rest = intermediateEigH(signal = signal, L = L, N_hankel = N_hankel,\n",
    "                       figsize = figsize)\n",
    "interact(calibration, tolerance=(0,2.4,0.01),\n",
    "         and_or = [\"AND\",\"OR\"],\n",
    "        rest = fixed(rest) );"
   ]
  },
  {
   "cell_type": "markdown",
   "id": "f3ae609d-0e81-4021-94b8-bce39735c9ee",
   "metadata": {},
   "source": [
    "## Using Inverse Power Method"
   ]
  },
  {
   "cell_type": "markdown",
   "id": "a2d1edda-a7e4-4208-b871-dc970f052428",
   "metadata": {},
   "source": [
    "### The intermediate step is for the widget not recalculating the IPM decomposition, and only changing the sensitivity.\n",
    "### It's easier on the computer to only adjust with the widget the sensitivity and change manually the L and S in the cell before for the calibration"
   ]
  },
  {
   "cell_type": "code",
   "execution_count": 18,
   "id": "f655aeb0-bee0-487f-bd44-d4415703e279",
   "metadata": {},
   "outputs": [],
   "source": [
    "L = 150\n",
    "N_hankel = 1200\n",
    "\n",
    "tolIPM = 1e-7\n",
    "kIterMax = 400\n",
    "#This q0 is an approximation to the lowest singular value\n",
    "#This can be estimated by other methods, but here we use it as known\n",
    "q0 = 0.01975  + 1e-5"
   ]
  },
  {
   "cell_type": "code",
   "execution_count": 19,
   "id": "b77463e7-1820-4b7c-b33d-bdb3532bf5a5",
   "metadata": {},
   "outputs": [
    {
     "name": "stdout",
     "output_type": "stream",
     "text": [
      "Number of iteration of IPM. kIter = 3\n",
      "Time taken for IPM: 0.0064 seconds\n"
     ]
    },
    {
     "data": {
      "application/vnd.jupyter.widget-view+json": {
       "model_id": "aa080a727fb74981889da293b038ebb1",
       "version_major": 2,
       "version_minor": 0
      },
      "text/plain": [
       "interactive(children=(FloatSlider(value=1.2, description='tolerance', max=2.4, step=0.01), Dropdown(descriptio…"
      ]
     },
     "metadata": {},
     "output_type": "display_data"
    }
   ],
   "source": [
    "rest = intermediateIPM(signal = signal, L = L, N_hankel = N_hankel,\n",
    "                       tolIPM = tolIPM,\n",
    "                       kIterMax = kIterMax,\n",
    "                       q0 = q0,\n",
    "                       figsize = figsize)\n",
    "interact(calibration, tolerance=(0,2.4,0.01),\n",
    "         and_or = [\"AND\",\"OR\"],\n",
    "        rest = fixed(rest) );"
   ]
  },
  {
   "cell_type": "markdown",
   "id": "d4e58771-d626-4921-9892-d1ea97b201bb",
   "metadata": {},
   "source": [
    "# Let's calibrate the first real signal\n",
    "### First read the file that has the signal"
   ]
  },
  {
   "cell_type": "code",
   "execution_count": 21,
   "id": "36793761-2bf6-4839-9ab9-c6ae449c3395",
   "metadata": {},
   "outputs": [],
   "source": [
    "signal = read_csv('../Data/real_signal_1.csv', header = None)\n",
    "signal = signal.values.reshape(-1)"
   ]
  },
  {
   "cell_type": "markdown",
   "id": "d0722105-8905-4833-8c71-023bd9a406cf",
   "metadata": {},
   "source": [
    "### The intermediate step is for the widget not recalculating the SVD decomposition, and only changing the sensitivity.\n",
    "### It's easier on the computer to only adjust with the widget the sensitivity and change manually the L and S in the cell before for the calibration"
   ]
  },
  {
   "cell_type": "markdown",
   "id": "2669c48f-9fc9-4803-a53f-34d4ffe83987",
   "metadata": {},
   "source": [
    "## Let's do it with the SVD Method"
   ]
  },
  {
   "cell_type": "markdown",
   "id": "558bc3b2-bc71-4559-9ddd-d0f59539b755",
   "metadata": {},
   "source": [
    "### Set some value for L and N_hankel here"
   ]
  },
  {
   "cell_type": "code",
   "execution_count": 22,
   "id": "93ad5a93-3101-4347-93c2-e13a42cd75d3",
   "metadata": {},
   "outputs": [],
   "source": [
    "L = 75\n",
    "N_hankel = 1300"
   ]
  },
  {
   "cell_type": "code",
   "execution_count": 23,
   "id": "4ebdcbdc-e1d1-4be4-bc6b-961c59e532b1",
   "metadata": {},
   "outputs": [
    {
     "name": "stdout",
     "output_type": "stream",
     "text": [
      "Time taken for SVD: 0.0196 seconds\n"
     ]
    },
    {
     "data": {
      "application/vnd.jupyter.widget-view+json": {
       "model_id": "23a8ceb7203048cfa34ce5333209e606",
       "version_major": 2,
       "version_minor": 0
      },
      "text/plain": [
       "interactive(children=(FloatSlider(value=1.2, description='tolerance', max=2.4, step=0.01), Dropdown(descriptio…"
      ]
     },
     "metadata": {},
     "output_type": "display_data"
    }
   ],
   "source": [
    "rest = intermediateSVD(signal = signal, L = L, N_hankel = N_hankel,\n",
    "                       figsize = figsize)\n",
    "interact(calibration, tolerance=(0,2.4,0.01),\n",
    "         and_or = [\"AND\",\"OR\"],\n",
    "        rest = fixed(rest) );"
   ]
  },
  {
   "cell_type": "markdown",
   "id": "8aa26a5c-4389-4d89-a384-9e90e9a2125e",
   "metadata": {},
   "source": [
    "## Now with the Eigen Hermitian method"
   ]
  },
  {
   "cell_type": "code",
   "execution_count": 24,
   "id": "ec3eb8e0-834e-4426-86f0-f43ab79994e9",
   "metadata": {},
   "outputs": [],
   "source": [
    "L = 75\n",
    "N_hankel = 1300"
   ]
  },
  {
   "cell_type": "code",
   "execution_count": 25,
   "id": "f87a739b-14c7-4040-b322-e9fb537533ad",
   "metadata": {},
   "outputs": [
    {
     "name": "stdout",
     "output_type": "stream",
     "text": [
      "Time taken for EigH: 0.0127 seconds\n"
     ]
    },
    {
     "data": {
      "application/vnd.jupyter.widget-view+json": {
       "model_id": "286aa4a2379347b48b484b866c67e5dd",
       "version_major": 2,
       "version_minor": 0
      },
      "text/plain": [
       "interactive(children=(FloatSlider(value=1.2, description='tolerance', max=2.4, step=0.01), Dropdown(descriptio…"
      ]
     },
     "metadata": {},
     "output_type": "display_data"
    }
   ],
   "source": [
    "rest = intermediateEigH(signal = signal, L = L, N_hankel = N_hankel,\n",
    "                       figsize = figsize)\n",
    "interact(calibration, tolerance=(0,2.4,0.01),\n",
    "         and_or = [\"AND\",\"OR\"],\n",
    "        rest = fixed(rest) );"
   ]
  },
  {
   "cell_type": "markdown",
   "id": "bca6c297-73f2-43c9-a6c6-bcbbc9676ecd",
   "metadata": {},
   "source": [
    "### Let's do it with the Inverse Power Method"
   ]
  },
  {
   "cell_type": "code",
   "execution_count": 28,
   "id": "11f3aa13-ea9e-49d9-99c5-50f7a74b7cf0",
   "metadata": {},
   "outputs": [],
   "source": [
    "L = 75\n",
    "N_hankel = 1300\n",
    "\n",
    "tolIPM = 1e-7\n",
    "kIterMax = 400\n",
    "#This q0 is an approximation to the lowest singular value\n",
    "#This can be estimated by other methods, but here we use it as known\n",
    "q0 = 2313.020907 + 1e-1\n",
    "#q0 = 0"
   ]
  },
  {
   "cell_type": "code",
   "execution_count": 29,
   "id": "4be31cf5-c2b7-4637-a542-28bc76d9e2dd",
   "metadata": {},
   "outputs": [
    {
     "name": "stdout",
     "output_type": "stream",
     "text": [
      "Number of iteration of IPM. kIter = 3\n",
      "Time taken for IPM: 0.0114 seconds\n"
     ]
    },
    {
     "data": {
      "application/vnd.jupyter.widget-view+json": {
       "model_id": "7f5f44a447624681a78963abe22381ec",
       "version_major": 2,
       "version_minor": 0
      },
      "text/plain": [
       "interactive(children=(FloatSlider(value=1.2, description='tolerance', max=2.4, step=0.01), Dropdown(descriptio…"
      ]
     },
     "metadata": {},
     "output_type": "display_data"
    }
   ],
   "source": [
    "rest = intermediateIPM(signal = signal, L = L, N_hankel = N_hankel,\n",
    "                       tolIPM = tolIPM,\n",
    "                       kIterMax = kIterMax,\n",
    "                       q0 = q0,\n",
    "                       figsize = figsize)\n",
    "interact(calibration, tolerance=(0,2.4,0.01),\n",
    "         and_or = [\"AND\",\"OR\"],\n",
    "        rest = fixed(rest) );"
   ]
  },
  {
   "cell_type": "markdown",
   "id": "df01a0f6-7315-4c07-a3ea-0d87f87a23e8",
   "metadata": {},
   "source": [
    "# Let's do it with the second real signal"
   ]
  },
  {
   "cell_type": "code",
   "execution_count": 30,
   "id": "86f026f9-af33-4938-8db9-6164bc4acec2",
   "metadata": {},
   "outputs": [],
   "source": [
    "signal = read_csv('../Data/real_signal_2.csv', header = None)\n",
    "signal = signal.values.reshape(-1)"
   ]
  },
  {
   "cell_type": "markdown",
   "id": "1de1d1e8-514f-4c3b-b034-65c8cd30f117",
   "metadata": {},
   "source": [
    "## Let's do it with the SVD Method"
   ]
  },
  {
   "cell_type": "markdown",
   "id": "8643a401-d60e-4b0b-b9b8-273398e73157",
   "metadata": {},
   "source": [
    "### Set some value for L and N_hankel here"
   ]
  },
  {
   "cell_type": "code",
   "execution_count": 31,
   "id": "58ba88a5-75ed-4faf-b639-7c0cb7d5c929",
   "metadata": {},
   "outputs": [],
   "source": [
    "L = 90\n",
    "N_hankel = 900"
   ]
  },
  {
   "cell_type": "code",
   "execution_count": 32,
   "id": "86634458-ee69-4de7-927f-11aea24bd9ee",
   "metadata": {},
   "outputs": [
    {
     "name": "stdout",
     "output_type": "stream",
     "text": [
      "Time taken for SVD: 0.0110 seconds\n"
     ]
    },
    {
     "data": {
      "application/vnd.jupyter.widget-view+json": {
       "model_id": "89134cf532ec418490adeaa5698fdb67",
       "version_major": 2,
       "version_minor": 0
      },
      "text/plain": [
       "interactive(children=(FloatSlider(value=0.9, description='tolerance', max=1.8, step=0.01), Dropdown(descriptio…"
      ]
     },
     "metadata": {},
     "output_type": "display_data"
    }
   ],
   "source": [
    "rest = intermediateSVD(signal = signal, L = L, N_hankel = N_hankel,\n",
    "                       figsize = figsize)\n",
    "interact(calibration, tolerance=(0,1.8,0.01),\n",
    "         and_or = [\"AND\",\"OR\"],\n",
    "        rest = fixed(rest) );"
   ]
  },
  {
   "cell_type": "markdown",
   "id": "abef0e55-548d-4288-9216-b2eec9420638",
   "metadata": {},
   "source": [
    "## Let's do it with the Eigen Hermitian Method"
   ]
  },
  {
   "cell_type": "markdown",
   "id": "e9231d84-2539-4853-92cc-2d3f037b0ac4",
   "metadata": {},
   "source": [
    "### Set some value for L and N_hankel here"
   ]
  },
  {
   "cell_type": "code",
   "execution_count": 34,
   "id": "3fa074db-62a8-4dbe-86c6-297b7e2adbc9",
   "metadata": {},
   "outputs": [
    {
     "name": "stdout",
     "output_type": "stream",
     "text": [
      "Time taken for EigH: 0.0056 seconds\n"
     ]
    },
    {
     "data": {
      "application/vnd.jupyter.widget-view+json": {
       "model_id": "417c6a8634fe463e865ece2dc7242ad2",
       "version_major": 2,
       "version_minor": 0
      },
      "text/plain": [
       "interactive(children=(FloatSlider(value=0.9, description='tolerance', max=1.8, step=0.01), Dropdown(descriptio…"
      ]
     },
     "metadata": {},
     "output_type": "display_data"
    }
   ],
   "source": [
    "rest = intermediateEigH(signal = signal, L = L, N_hankel = N_hankel,\n",
    "                       figsize = figsize)\n",
    "interact(calibration, tolerance=(0,1.8,0.01),\n",
    "         and_or = [\"AND\",\"OR\"],\n",
    "        rest = fixed(rest) );"
   ]
  },
  {
   "cell_type": "markdown",
   "id": "8173f52d-aca3-4c97-a9e8-1b2eb93d03c2",
   "metadata": {},
   "source": [
    "### Let's do it now with the Inverse Power Method"
   ]
  },
  {
   "cell_type": "code",
   "execution_count": 35,
   "id": "7be3e2e6-5f2d-4934-8ae4-0fbbebf15aac",
   "metadata": {},
   "outputs": [],
   "source": [
    "L = 90\n",
    "N_hankel = 900\n",
    "\n",
    "tolIPM = 1e-8\n",
    "kIterMax = 100\n",
    "#This q0 is an approximation to the lowest singular value\n",
    "#This can be estimated by other methods, but here we use it as known\n",
    "q0 = 2.5697 + 1e-3"
   ]
  },
  {
   "cell_type": "code",
   "execution_count": 36,
   "id": "3e97224a-1c92-4774-90dc-f20c4a6f2bbe",
   "metadata": {},
   "outputs": [
    {
     "name": "stdout",
     "output_type": "stream",
     "text": [
      "Number of iteration of IPM. kIter = 3\n",
      "Time taken for IPM: 0.0436 seconds\n"
     ]
    },
    {
     "data": {
      "application/vnd.jupyter.widget-view+json": {
       "model_id": "589db8989718481ea8e0f31e5c3ec80e",
       "version_major": 2,
       "version_minor": 0
      },
      "text/plain": [
       "interactive(children=(FloatSlider(value=1.2, description='tolerance', max=2.4, step=0.01), Dropdown(descriptio…"
      ]
     },
     "metadata": {},
     "output_type": "display_data"
    }
   ],
   "source": [
    "rest = intermediateIPM(signal = signal, L = L, N_hankel = N_hankel,\n",
    "                       tolIPM = tolIPM,\n",
    "                       kIterMax = kIterMax,\n",
    "                       q0 = q0,\n",
    "                       figsize = figsize)\n",
    "interact(calibration, tolerance=(0,2.4,0.01),\n",
    "         and_or = [\"AND\",\"OR\"],\n",
    "        rest = fixed(rest) );"
   ]
  }
 ],
 "metadata": {
  "kernelspec": {
   "display_name": "Python 3 (ipykernel)",
   "language": "python",
   "name": "python3"
  },
  "language_info": {
   "codemirror_mode": {
    "name": "ipython",
    "version": 3
   },
   "file_extension": ".py",
   "mimetype": "text/x-python",
   "name": "python",
   "nbconvert_exporter": "python",
   "pygments_lexer": "ipython3",
   "version": "3.9.12"
  }
 },
 "nbformat": 4,
 "nbformat_minor": 5
}
